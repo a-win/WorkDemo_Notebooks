{
 "cells": [
  {
   "cell_type": "code",
   "execution_count": 0,
   "metadata": {
    "colab": {},
    "colab_type": "code",
    "id": "sKJdspp0kS1X"
   },
   "outputs": [],
   "source": [
    "!pip install pytesseract"
   ]
  },
  {
   "cell_type": "code",
   "execution_count": 0,
   "metadata": {
    "colab": {},
    "colab_type": "code",
    "id": "448XXB54XhxR"
   },
   "outputs": [],
   "source": [
    "!sudo apt-get install tesseract-ocr"
   ]
  },
  {
   "cell_type": "code",
   "execution_count": 0,
   "metadata": {
    "colab": {},
    "colab_type": "code",
    "id": "Kas0XTxjlZP6"
   },
   "outputs": [],
   "source": [
    "!pip install face_recognition"
   ]
  },
  {
   "cell_type": "code",
   "execution_count": 0,
   "metadata": {
    "colab": {},
    "colab_type": "code",
    "id": "d6bIxlvMhWib"
   },
   "outputs": [],
   "source": [
    "def imShow(path):\n",
    "  import cv2\n",
    "  import matplotlib.pyplot as plt\n",
    "  %matplotlib inline\n",
    "\n",
    "  image = cv2.imread(path)\n",
    "  height, width = image.shape[:2]\n",
    "  resized_image = cv2.resize(image,(3*width, 3*height), interpolation = cv2.INTER_CUBIC)\n",
    "\n",
    "  fig = plt.gcf()\n",
    "  fig.set_size_inches(18, 10)\n",
    "  plt.axis(\"off\")\n",
    "  plt.imshow(cv2.cvtColor(resized_image, cv2.COLOR_BGR2RGB))\n",
    "  plt.show()"
   ]
  },
  {
   "cell_type": "code",
   "execution_count": 0,
   "metadata": {
    "colab": {},
    "colab_type": "code",
    "id": "2GYitBVrkVzF"
   },
   "outputs": [],
   "source": [
    "import pytesseract as tess\n",
    "import cv2\n",
    "import numpy as np"
   ]
  },
  {
   "cell_type": "code",
   "execution_count": 68,
   "metadata": {
    "colab": {
     "base_uri": "https://localhost:8080/",
     "height": 34
    },
    "colab_type": "code",
    "executionInfo": {
     "elapsed": 1070,
     "status": "ok",
     "timestamp": 1587637155908,
     "user": {
      "displayName": "ashwin yenigalla",
      "photoUrl": "https://lh3.googleusercontent.com/a-/AOh14Gh1GDtzkwpsgOtmzgB-2vP1XJk4JIRHvxYY2Ihc=s64",
      "userId": "07956540816182061853"
     },
     "user_tz": -330
    },
    "id": "lzFOzKMBk-kc",
    "outputId": "44f25102-8940-4ef3-85bc-63d401c5fe1a"
   },
   "outputs": [
    {
     "name": "stdout",
     "output_type": "stream",
     "text": [
      "Drive already mounted at /content/gdrive; to attempt to forcibly remount, call drive.mount(\"/content/gdrive\", force_remount=True).\n"
     ]
    }
   ],
   "source": [
    "from google.colab import drive\n",
    "drive.mount('/content/gdrive')"
   ]
  },
  {
   "cell_type": "code",
   "execution_count": 71,
   "metadata": {
    "colab": {
     "base_uri": "https://localhost:8080/",
     "height": 34
    },
    "colab_type": "code",
    "executionInfo": {
     "elapsed": 820,
     "status": "ok",
     "timestamp": 1587637177194,
     "user": {
      "displayName": "ashwin yenigalla",
      "photoUrl": "https://lh3.googleusercontent.com/a-/AOh14Gh1GDtzkwpsgOtmzgB-2vP1XJk4JIRHvxYY2Ihc=s64",
      "userId": "07956540816182061853"
     },
     "user_tz": -330
    },
    "id": "PcTBq5NjrQhs",
    "outputId": "49a19c11-7287-4b04-8661-9ddd8a008426"
   },
   "outputs": [
    {
     "name": "stdout",
     "output_type": "stream",
     "text": [
      "/content/gdrive/My Drive/images/Tests\n"
     ]
    }
   ],
   "source": [
    "cd /content/gdrive/My Drive/images/Tests"
   ]
  },
  {
   "cell_type": "code",
   "execution_count": 72,
   "metadata": {
    "colab": {
     "base_uri": "https://localhost:8080/",
     "height": 34
    },
    "colab_type": "code",
    "executionInfo": {
     "elapsed": 2929,
     "status": "ok",
     "timestamp": 1587637182188,
     "user": {
      "displayName": "ashwin yenigalla",
      "photoUrl": "https://lh3.googleusercontent.com/a-/AOh14Gh1GDtzkwpsgOtmzgB-2vP1XJk4JIRHvxYY2Ihc=s64",
      "userId": "07956540816182061853"
     },
     "user_tz": -330
    },
    "id": "9e2cXYwalC8v",
    "outputId": "74a9bbd4-55c1-4cf9-889b-f7fec8af4ecf"
   },
   "outputs": [
    {
     "name": "stdout",
     "output_type": "stream",
     "text": [
      "18.jpg  1.jpg  2.jpg\n"
     ]
    }
   ],
   "source": [
    "ls"
   ]
  },
  {
   "cell_type": "code",
   "execution_count": 0,
   "metadata": {
    "colab": {},
    "colab_type": "code",
    "id": "wUlwSO5olMxw"
   },
   "outputs": [],
   "source": [
    "# Face \n",
    "\n",
    "import cv2\n",
    "import face_recognition \n",
    "path1 = 'path'\n",
    "path2 = 'path'\n",
    "#load images using opencv path load \n",
    "img1 = cv2.readim(path1)\n",
    "img2 = cv2.readim(path2)\n",
    "#get face encodings using face_recognition libraries\n",
    "enc1 = face_recognition.face_encodings(img1)\n",
    "enc2 = face_recognition.face_encodings(img2) \n",
    "#compare faces\n",
    "dist = face_recognition.face_distance(enc1,enc2) \n",
    "match = face_recognition.compare_faces(enc1,enc2)\n",
    "#print results \n",
    "print(dist)\n",
    "print(match)"
   ]
  },
  {
   "cell_type": "code",
   "execution_count": 49,
   "metadata": {
    "colab": {
     "base_uri": "https://localhost:8080/",
     "height": 34
    },
    "colab_type": "code",
    "executionInfo": {
     "elapsed": 809,
     "status": "ok",
     "timestamp": 1587634738973,
     "user": {
      "displayName": "ashwin yenigalla",
      "photoUrl": "https://lh3.googleusercontent.com/a-/AOh14Gh1GDtzkwpsgOtmzgB-2vP1XJk4JIRHvxYY2Ihc=s64",
      "userId": "07956540816182061853"
     },
     "user_tz": -330
    },
    "id": "1D7BDK-lmW-l",
    "outputId": "043099c9-afc3-46cc-e476-719ae5e4a0c7"
   },
   "outputs": [
    {
     "data": {
      "text/plain": [
       "numpy.ndarray"
      ]
     },
     "execution_count": 49,
     "metadata": {
      "tags": []
     },
     "output_type": "execute_result"
    }
   ],
   "source": [
    "path = '1.jpg' \n",
    "img = cv2.imread(path)\n",
    "#text = tess.image_to_string(img, lang='eng')\n",
    "#print(text)\n",
    "#img.shape\n",
    "type(img)\n",
    "\n"
   ]
  },
  {
   "cell_type": "code",
   "execution_count": 50,
   "metadata": {
    "colab": {
     "base_uri": "https://localhost:8080/",
     "height": 34
    },
    "colab_type": "code",
    "executionInfo": {
     "elapsed": 1053,
     "status": "ok",
     "timestamp": 1587634744928,
     "user": {
      "displayName": "ashwin yenigalla",
      "photoUrl": "https://lh3.googleusercontent.com/a-/AOh14Gh1GDtzkwpsgOtmzgB-2vP1XJk4JIRHvxYY2Ihc=s64",
      "userId": "07956540816182061853"
     },
     "user_tz": -330
    },
    "id": "e-ROrv5Yrf0B",
    "outputId": "09f50d2e-8fcb-4fca-cc49-ed5bb70f0d57"
   },
   "outputs": [
    {
     "data": {
      "text/plain": [
       "(38, 144, 3)"
      ]
     },
     "execution_count": 50,
     "metadata": {
      "tags": []
     },
     "output_type": "execute_result"
    }
   ],
   "source": [
    "np.shape(img)"
   ]
  },
  {
   "cell_type": "code",
   "execution_count": 87,
   "metadata": {
    "colab": {
     "base_uri": "https://localhost:8080/",
     "height": 231
    },
    "colab_type": "code",
    "executionInfo": {
     "elapsed": 951,
     "status": "error",
     "timestamp": 1587637669600,
     "user": {
      "displayName": "ashwin yenigalla",
      "photoUrl": "https://lh3.googleusercontent.com/a-/AOh14Gh1GDtzkwpsgOtmzgB-2vP1XJk4JIRHvxYY2Ihc=s64",
      "userId": "07956540816182061853"
     },
     "user_tz": -330
    },
    "id": "7cCjazODZIAq",
    "outputId": "abff0fa6-7c6d-419c-92fe-8668766112f6"
   },
   "outputs": [
    {
     "ename": "error",
     "evalue": "ignored",
     "output_type": "error",
     "traceback": [
      "\u001b[0;31m---------------------------------------------------------------------------\u001b[0m",
      "\u001b[0;31merror\u001b[0m                                     Traceback (most recent call last)",
      "\u001b[0;32m<ipython-input-87-d5bc25c3341f>\u001b[0m in \u001b[0;36m<module>\u001b[0;34m()\u001b[0m\n\u001b[1;32m     19\u001b[0m     \u001b[0mf\u001b[0m\u001b[0;34m.\u001b[0m\u001b[0mwrite\u001b[0m\u001b[0;34m(\u001b[0m\u001b[0mimg\u001b[0m\u001b[0;34m)\u001b[0m\u001b[0;34m\u001b[0m\u001b[0;34m\u001b[0m\u001b[0m\n\u001b[1;32m     20\u001b[0m \u001b[0mimg\u001b[0m \u001b[0;34m=\u001b[0m \u001b[0mcv2\u001b[0m\u001b[0;34m.\u001b[0m\u001b[0mimread\u001b[0m\u001b[0;34m(\u001b[0m\u001b[0;34m'test.jpg'\u001b[0m\u001b[0;34m)\u001b[0m\u001b[0;34m\u001b[0m\u001b[0;34m\u001b[0m\u001b[0m\n\u001b[0;32m---> 21\u001b[0;31m \u001b[0mimg\u001b[0m \u001b[0;34m=\u001b[0m \u001b[0mcv2\u001b[0m\u001b[0;34m.\u001b[0m\u001b[0mresize\u001b[0m\u001b[0;34m(\u001b[0m\u001b[0mimg\u001b[0m\u001b[0;34m,\u001b[0m\u001b[0;34m(\u001b[0m\u001b[0;36m40\u001b[0m\u001b[0;34m,\u001b[0m\u001b[0;36m145\u001b[0m\u001b[0;34m)\u001b[0m\u001b[0;34m)\u001b[0m\u001b[0;34m\u001b[0m\u001b[0;34m\u001b[0m\u001b[0m\n\u001b[0m\u001b[1;32m     22\u001b[0m \u001b[0;34m\u001b[0m\u001b[0m\n\u001b[1;32m     23\u001b[0m \u001b[0;31m#OUTPUT VARIABLE\u001b[0m\u001b[0;34m\u001b[0m\u001b[0;34m\u001b[0m\u001b[0;34m\u001b[0m\u001b[0m\n",
      "\u001b[0;31merror\u001b[0m: OpenCV(4.1.2) /io/opencv/modules/imgproc/src/resize.cpp:3720: error: (-215:Assertion failed) !ssize.empty() in function 'resize'\n"
     ]
    }
   ],
   "source": [
    "#SMALL IMG OCR packages\n",
    "import pytesseract as tess\n",
    "import cv2 \n",
    "import numpy as np\n",
    "import base64\n",
    "\n",
    "#IMG LOADING AND PROCESSING \n",
    "#string = #\"input_goes_here\" \n",
    "\n",
    "#temp\n",
    "path = '1.jpg' \n",
    "img = cv2.imread(path)\n",
    "string  = base64.b64encode(img)\n",
    "#temp\n",
    "\n",
    "path = base64.b64decode(string)\n",
    "img = path\n",
    "filename = 'test.jpg'\n",
    "with open(filename, 'wb') as f:\n",
    "    f.write(img)\n",
    "img = cv2.imread('test.jpg')\n",
    "img = cv2.resize(img,(40,145))\n",
    "\n",
    "#OUTPUT VARIABLE\n",
    "text = tess.image_to_string(img, lang='eng')"
   ]
  },
  {
   "cell_type": "code",
   "execution_count": 0,
   "metadata": {
    "colab": {},
    "colab_type": "code",
    "id": "HsE3yoZEZ-e1"
   },
   "outputs": [],
   "source": [
    "np.shape(img)"
   ]
  },
  {
   "cell_type": "code",
   "execution_count": 0,
   "metadata": {
    "colab": {},
    "colab_type": "code",
    "id": "l01onk4PhLUz"
   },
   "outputs": [],
   "source": [
    "path = '1.jpg' \n",
    "img = cv2.imread(path)"
   ]
  },
  {
   "cell_type": "code",
   "execution_count": 85,
   "metadata": {
    "colab": {
     "base_uri": "https://localhost:8080/",
     "height": 34
    },
    "colab_type": "code",
    "executionInfo": {
     "elapsed": 854,
     "status": "ok",
     "timestamp": 1587637422436,
     "user": {
      "displayName": "ashwin yenigalla",
      "photoUrl": "https://lh3.googleusercontent.com/a-/AOh14Gh1GDtzkwpsgOtmzgB-2vP1XJk4JIRHvxYY2Ihc=s64",
      "userId": "07956540816182061853"
     },
     "user_tz": -330
    },
    "id": "0Zk6Zm0picte",
    "outputId": "b9a36d4f-1599-4d3a-de87-622f00da7c70"
   },
   "outputs": [
    {
     "data": {
      "text/plain": [
       "'/content/gdrive/My Drive/images/Tests'"
      ]
     },
     "execution_count": 85,
     "metadata": {
      "tags": []
     },
     "output_type": "execute_result"
    }
   ],
   "source": [
    "pwd"
   ]
  },
  {
   "cell_type": "code",
   "execution_count": 77,
   "metadata": {
    "colab": {
     "base_uri": "https://localhost:8080/",
     "height": 34
    },
    "colab_type": "code",
    "executionInfo": {
     "elapsed": 929,
     "status": "ok",
     "timestamp": 1587637231345,
     "user": {
      "displayName": "ashwin yenigalla",
      "photoUrl": "https://lh3.googleusercontent.com/a-/AOh14Gh1GDtzkwpsgOtmzgB-2vP1XJk4JIRHvxYY2Ihc=s64",
      "userId": "07956540816182061853"
     },
     "user_tz": -330
    },
    "id": "LTLwkP9Aie4e",
    "outputId": "dbe0d5c2-d343-4222-dd18-e18d3e9e5cbb"
   },
   "outputs": [
    {
     "data": {
      "text/plain": [
       "bytes"
      ]
     },
     "execution_count": 77,
     "metadata": {
      "tags": []
     },
     "output_type": "execute_result"
    }
   ],
   "source": [
    "path = '1.jpg' \n",
    "img = cv2.imread(path)\n",
    "string  = base64.b64encode(img)\n",
    "img = base64.b64decode(string)\n"
   ]
  },
  {
   "cell_type": "code",
   "execution_count": 0,
   "metadata": {
    "colab": {},
    "colab_type": "code",
    "id": "UdlaULx_inke"
   },
   "outputs": [],
   "source": [
    "img = 'img'\n",
    "filename = 'path'\n",
    "with open(filename, 'w') as f:\n",
    "    f.write(img)"
   ]
  },
  {
   "cell_type": "code",
   "execution_count": 0,
   "metadata": {
    "colab": {},
    "colab_type": "code",
    "id": "uwITrcGkkHT8"
   },
   "outputs": [],
   "source": []
  }
 ],
 "metadata": {
  "colab": {
   "authorship_tag": "ABX9TyNBhI7rpGFVgaLe5r/hFb9c",
   "name": "TessDemo.ipynb",
   "provenance": []
  },
  "kernelspec": {
   "display_name": "Python 3 (ipykernel)",
   "language": "python",
   "name": "python3"
  },
  "language_info": {
   "codemirror_mode": {
    "name": "ipython",
    "version": 3
   },
   "file_extension": ".py",
   "mimetype": "text/x-python",
   "name": "python",
   "nbconvert_exporter": "python",
   "pygments_lexer": "ipython3",
   "version": "3.9.7"
  }
 },
 "nbformat": 4,
 "nbformat_minor": 1
}
